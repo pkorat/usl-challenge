{
 "cells": [
  {
   "cell_type": "code",
   "execution_count": 1,
   "metadata": {},
   "outputs": [],
   "source": [
    "import pandas as pd\n",
    "import matplotlib.pyplot as plt\n",
    "from sklearn.preprocessing import StandardScaler\n",
    "from sklearn.decomposition import PCA\n",
    "import numpy as np\n",
    "from sklearn.cluster import KMeans"
   ]
  },
  {
   "cell_type": "code",
   "execution_count": 2,
   "metadata": {},
   "outputs": [
    {
     "data": {
      "text/plain": [
       "(1252, 7)"
      ]
     },
     "execution_count": 2,
     "metadata": {},
     "output_type": "execute_result"
    }
   ],
   "source": [
    "crypto_db = pd.read_csv('crypto_data.csv')\n",
    "crypto_db.shape"
   ]
  },
  {
   "cell_type": "code",
   "execution_count": 3,
   "metadata": {},
   "outputs": [
    {
     "data": {
      "text/plain": [
       "True     1144\n",
       "False     108\n",
       "Name: IsTrading, dtype: int64"
      ]
     },
     "execution_count": 3,
     "metadata": {},
     "output_type": "execute_result"
    }
   ],
   "source": [
    "# How many of them are true and false\n",
    "crypto_db['IsTrading'].value_counts()"
   ]
  },
  {
   "cell_type": "code",
   "execution_count": 4,
   "metadata": {},
   "outputs": [
    {
     "data": {
      "text/plain": [
       "(1144, 7)"
      ]
     },
     "execution_count": 4,
     "metadata": {},
     "output_type": "execute_result"
    }
   ],
   "source": [
    "crypto_db_trade = crypto_db[crypto_db['IsTrading'] == True]\n",
    "crypto_db_trade.shape"
   ]
  },
  {
   "cell_type": "code",
   "execution_count": 5,
   "metadata": {},
   "outputs": [
    {
     "data": {
      "text/plain": [
       "True    1144\n",
       "Name: IsTrading, dtype: int64"
      ]
     },
     "execution_count": 5,
     "metadata": {},
     "output_type": "execute_result"
    }
   ],
   "source": [
    "crypto_db_trade['IsTrading'].value_counts()"
   ]
  },
  {
   "cell_type": "code",
   "execution_count": 6,
   "metadata": {},
   "outputs": [],
   "source": [
    "crypto_db_trade = crypto_db_trade.drop(['IsTrading'], axis=1)"
   ]
  },
  {
   "cell_type": "code",
   "execution_count": 7,
   "metadata": {},
   "outputs": [
    {
     "data": {
      "text/plain": [
       "(685, 6)"
      ]
     },
     "execution_count": 7,
     "metadata": {},
     "output_type": "execute_result"
    }
   ],
   "source": [
    "crypto_db_trade = crypto_db_trade.dropna()\n",
    "crypto_db_trade.shape"
   ]
  },
  {
   "cell_type": "code",
   "execution_count": 8,
   "metadata": {},
   "outputs": [],
   "source": [
    "crypto_db_clean = crypto_db_trade[crypto_db_trade['TotalCoinSupply'] != '0'].drop(['Unnamed: 0', 'CoinName'], axis=1)"
   ]
  },
  {
   "cell_type": "code",
   "execution_count": 9,
   "metadata": {},
   "outputs": [],
   "source": [
    "crypto_db_clean['TotalCoinSupply'] = crypto_db_clean['TotalCoinSupply'].astype('float')"
   ]
  },
  {
   "cell_type": "code",
   "execution_count": 10,
   "metadata": {},
   "outputs": [
    {
     "data": {
      "text/plain": [
       "Algorithm           object\n",
       "ProofType           object\n",
       "TotalCoinsMined    float64\n",
       "TotalCoinSupply    float64\n",
       "dtype: object"
      ]
     },
     "execution_count": 10,
     "metadata": {},
     "output_type": "execute_result"
    }
   ],
   "source": [
    "crypto_db_clean.dtypes"
   ]
  },
  {
   "cell_type": "code",
   "execution_count": 11,
   "metadata": {},
   "outputs": [
    {
     "data": {
      "text/plain": [
       "Scrypt                   211\n",
       "X11                       92\n",
       "SHA-256                   66\n",
       "CryptoNight               22\n",
       "Quark                     20\n",
       "                        ... \n",
       "SkunkHash v2 Raptor        1\n",
       "VeChainThor Authority      1\n",
       "M7 POW                     1\n",
       "POS 2.0                    1\n",
       "TRC10                      1\n",
       "Name: Algorithm, Length: 78, dtype: int64"
      ]
     },
     "execution_count": 11,
     "metadata": {},
     "output_type": "execute_result"
    }
   ],
   "source": [
    "crypto_db_clean['Algorithm'].value_counts()"
   ]
  },
  {
   "cell_type": "code",
   "execution_count": 12,
   "metadata": {},
   "outputs": [
    {
     "data": {
      "text/plain": [
       "PoW                     300\n",
       "PoW/PoS                 211\n",
       "PoS                      95\n",
       "DPoS                      8\n",
       "PoC                       3\n",
       "PoS/PoW                   1\n",
       "LPoS                      1\n",
       "DPoC                      1\n",
       "Proof of Trust            1\n",
       "POS / MN                  1\n",
       "Pos                       1\n",
       "DPOS                      1\n",
       "Zero-Knowledge Proof      1\n",
       "HPoW                      1\n",
       "POBh                      1\n",
       "PoA                       1\n",
       "PoW + Hive                1\n",
       "PoW and PoS               1\n",
       "Proof of Authority        1\n",
       "PoW/PoS                   1\n",
       "TPoS                      1\n",
       "PoW/PoW                   1\n",
       "dPoW/PoW                  1\n",
       "PoW/nPoS                  1\n",
       "PoS/LPoS                  1\n",
       "Name: ProofType, dtype: int64"
      ]
     },
     "execution_count": 12,
     "metadata": {},
     "output_type": "execute_result"
    }
   ],
   "source": [
    "crypto_db_clean['ProofType'].value_counts()"
   ]
  },
  {
   "cell_type": "code",
   "execution_count": 13,
   "metadata": {},
   "outputs": [
    {
     "data": {
      "text/plain": [
       "(637, 105)"
      ]
     },
     "execution_count": 13,
     "metadata": {},
     "output_type": "execute_result"
    }
   ],
   "source": [
    "crypto_db_clean = pd.get_dummies(crypto_db_clean)\n",
    "crypto_db_clean.shape"
   ]
  },
  {
   "cell_type": "code",
   "execution_count": 14,
   "metadata": {},
   "outputs": [],
   "source": [
    "scaler = StandardScaler()\n",
    "scaled_crypto_db = scaler.fit_transform(crypto_db_clean)"
   ]
  },
  {
   "cell_type": "code",
   "execution_count": 15,
   "metadata": {},
   "outputs": [
    {
     "data": {
      "text/html": [
       "<div>\n",
       "<style scoped>\n",
       "    .dataframe tbody tr th:only-of-type {\n",
       "        vertical-align: middle;\n",
       "    }\n",
       "\n",
       "    .dataframe tbody tr th {\n",
       "        vertical-align: top;\n",
       "    }\n",
       "\n",
       "    .dataframe thead th {\n",
       "        text-align: right;\n",
       "    }\n",
       "</style>\n",
       "<table border=\"1\" class=\"dataframe\">\n",
       "  <thead>\n",
       "    <tr style=\"text-align: right;\">\n",
       "      <th></th>\n",
       "      <th>0</th>\n",
       "      <th>1</th>\n",
       "      <th>2</th>\n",
       "      <th>3</th>\n",
       "      <th>4</th>\n",
       "      <th>5</th>\n",
       "      <th>6</th>\n",
       "      <th>7</th>\n",
       "      <th>8</th>\n",
       "      <th>9</th>\n",
       "      <th>...</th>\n",
       "      <th>70</th>\n",
       "      <th>71</th>\n",
       "      <th>72</th>\n",
       "      <th>73</th>\n",
       "      <th>74</th>\n",
       "      <th>75</th>\n",
       "      <th>76</th>\n",
       "      <th>77</th>\n",
       "      <th>78</th>\n",
       "      <th>79</th>\n",
       "    </tr>\n",
       "  </thead>\n",
       "  <tbody>\n",
       "    <tr>\n",
       "      <th>0</th>\n",
       "      <td>-0.160261</td>\n",
       "      <td>-1.182885</td>\n",
       "      <td>-0.550083</td>\n",
       "      <td>-4.155959e-07</td>\n",
       "      <td>-9.963688e-09</td>\n",
       "      <td>2.000870e-10</td>\n",
       "      <td>-5.019337e-11</td>\n",
       "      <td>-4.992794e-10</td>\n",
       "      <td>0.015750</td>\n",
       "      <td>-1.162458</td>\n",
       "      <td>...</td>\n",
       "      <td>5.906370e-13</td>\n",
       "      <td>6.759112e-13</td>\n",
       "      <td>-3.701833e-13</td>\n",
       "      <td>1.724383e-13</td>\n",
       "      <td>5.459520e-13</td>\n",
       "      <td>5.518474e-13</td>\n",
       "      <td>-7.770555e-13</td>\n",
       "      <td>-7.267755e-14</td>\n",
       "      <td>-2.666910e-13</td>\n",
       "      <td>-6.834427e-13</td>\n",
       "    </tr>\n",
       "    <tr>\n",
       "      <th>1</th>\n",
       "      <td>-0.145856</td>\n",
       "      <td>-1.180922</td>\n",
       "      <td>-0.550503</td>\n",
       "      <td>-4.155959e-07</td>\n",
       "      <td>-9.963689e-09</td>\n",
       "      <td>2.000870e-10</td>\n",
       "      <td>-5.019338e-11</td>\n",
       "      <td>-4.992794e-10</td>\n",
       "      <td>0.014381</td>\n",
       "      <td>-1.164725</td>\n",
       "      <td>...</td>\n",
       "      <td>5.910202e-13</td>\n",
       "      <td>6.759351e-13</td>\n",
       "      <td>-3.706445e-13</td>\n",
       "      <td>1.719705e-13</td>\n",
       "      <td>5.461398e-13</td>\n",
       "      <td>5.517736e-13</td>\n",
       "      <td>-7.770790e-13</td>\n",
       "      <td>-7.281629e-14</td>\n",
       "      <td>-2.661965e-13</td>\n",
       "      <td>-6.836705e-13</td>\n",
       "    </tr>\n",
       "    <tr>\n",
       "      <th>2</th>\n",
       "      <td>0.406774</td>\n",
       "      <td>-1.934732</td>\n",
       "      <td>-0.622302</td>\n",
       "      <td>-5.915520e-07</td>\n",
       "      <td>-1.418215e-08</td>\n",
       "      <td>2.848127e-10</td>\n",
       "      <td>-7.143711e-11</td>\n",
       "      <td>-7.106660e-10</td>\n",
       "      <td>-0.029898</td>\n",
       "      <td>-0.753670</td>\n",
       "      <td>...</td>\n",
       "      <td>3.321471e-14</td>\n",
       "      <td>1.006691e-13</td>\n",
       "      <td>-7.838474e-16</td>\n",
       "      <td>-1.020310e-14</td>\n",
       "      <td>-2.269997e-14</td>\n",
       "      <td>-5.109465e-14</td>\n",
       "      <td>8.644403e-15</td>\n",
       "      <td>1.472136e-14</td>\n",
       "      <td>6.259814e-15</td>\n",
       "      <td>5.183308e-14</td>\n",
       "    </tr>\n",
       "    <tr>\n",
       "      <th>3</th>\n",
       "      <td>-0.246677</td>\n",
       "      <td>1.406204</td>\n",
       "      <td>0.188435</td>\n",
       "      <td>2.214351e-07</td>\n",
       "      <td>5.308798e-09</td>\n",
       "      <td>-1.066153e-10</td>\n",
       "      <td>2.674134e-11</td>\n",
       "      <td>2.660253e-10</td>\n",
       "      <td>-0.011565</td>\n",
       "      <td>0.155303</td>\n",
       "      <td>...</td>\n",
       "      <td>2.593566e-15</td>\n",
       "      <td>8.876458e-15</td>\n",
       "      <td>-4.477932e-15</td>\n",
       "      <td>2.135494e-15</td>\n",
       "      <td>-3.724791e-15</td>\n",
       "      <td>-1.028394e-14</td>\n",
       "      <td>3.860336e-15</td>\n",
       "      <td>8.922671e-16</td>\n",
       "      <td>-1.327284e-15</td>\n",
       "      <td>1.856706e-15</td>\n",
       "    </tr>\n",
       "    <tr>\n",
       "      <th>4</th>\n",
       "      <td>-0.318125</td>\n",
       "      <td>1.058161</td>\n",
       "      <td>-0.011589</td>\n",
       "      <td>1.120829e-07</td>\n",
       "      <td>2.687143e-09</td>\n",
       "      <td>-5.397117e-11</td>\n",
       "      <td>1.353240e-11</td>\n",
       "      <td>1.346540e-10</td>\n",
       "      <td>0.007188</td>\n",
       "      <td>-0.363163</td>\n",
       "      <td>...</td>\n",
       "      <td>5.934660e-13</td>\n",
       "      <td>6.815177e-13</td>\n",
       "      <td>-3.676591e-13</td>\n",
       "      <td>1.693975e-13</td>\n",
       "      <td>5.450718e-13</td>\n",
       "      <td>5.493685e-13</td>\n",
       "      <td>-7.759541e-13</td>\n",
       "      <td>-7.174308e-14</td>\n",
       "      <td>-2.656713e-13</td>\n",
       "      <td>-6.834378e-13</td>\n",
       "    </tr>\n",
       "    <tr>\n",
       "      <th>...</th>\n",
       "      <td>...</td>\n",
       "      <td>...</td>\n",
       "      <td>...</td>\n",
       "      <td>...</td>\n",
       "      <td>...</td>\n",
       "      <td>...</td>\n",
       "      <td>...</td>\n",
       "      <td>...</td>\n",
       "      <td>...</td>\n",
       "      <td>...</td>\n",
       "      <td>...</td>\n",
       "      <td>...</td>\n",
       "      <td>...</td>\n",
       "      <td>...</td>\n",
       "      <td>...</td>\n",
       "      <td>...</td>\n",
       "      <td>...</td>\n",
       "      <td>...</td>\n",
       "      <td>...</td>\n",
       "      <td>...</td>\n",
       "      <td>...</td>\n",
       "    </tr>\n",
       "    <tr>\n",
       "      <th>632</th>\n",
       "      <td>4.330349</td>\n",
       "      <td>0.301908</td>\n",
       "      <td>-0.119242</td>\n",
       "      <td>-1.156728e-07</td>\n",
       "      <td>-2.773183e-09</td>\n",
       "      <td>5.568193e-11</td>\n",
       "      <td>-1.395455e-11</td>\n",
       "      <td>-1.389018e-10</td>\n",
       "      <td>-1.044660</td>\n",
       "      <td>0.619719</td>\n",
       "      <td>...</td>\n",
       "      <td>6.578324e-18</td>\n",
       "      <td>7.616774e-15</td>\n",
       "      <td>-4.276170e-15</td>\n",
       "      <td>2.042807e-15</td>\n",
       "      <td>-4.889290e-15</td>\n",
       "      <td>-1.191261e-14</td>\n",
       "      <td>6.968489e-15</td>\n",
       "      <td>3.115521e-16</td>\n",
       "      <td>-2.265100e-15</td>\n",
       "      <td>2.018868e-15</td>\n",
       "    </tr>\n",
       "    <tr>\n",
       "      <th>633</th>\n",
       "      <td>-0.160057</td>\n",
       "      <td>-1.182857</td>\n",
       "      <td>-0.550089</td>\n",
       "      <td>-4.155959e-07</td>\n",
       "      <td>-9.963688e-09</td>\n",
       "      <td>2.000869e-10</td>\n",
       "      <td>-5.019339e-11</td>\n",
       "      <td>-4.992793e-10</td>\n",
       "      <td>0.015731</td>\n",
       "      <td>-1.162490</td>\n",
       "      <td>...</td>\n",
       "      <td>5.907056e-13</td>\n",
       "      <td>6.761454e-13</td>\n",
       "      <td>-3.701450e-13</td>\n",
       "      <td>1.723700e-13</td>\n",
       "      <td>5.463435e-13</td>\n",
       "      <td>5.517547e-13</td>\n",
       "      <td>-7.775905e-13</td>\n",
       "      <td>-7.306395e-14</td>\n",
       "      <td>-2.658276e-13</td>\n",
       "      <td>-6.839746e-13</td>\n",
       "    </tr>\n",
       "    <tr>\n",
       "      <th>634</th>\n",
       "      <td>-0.201116</td>\n",
       "      <td>2.218903</td>\n",
       "      <td>0.376254</td>\n",
       "      <td>4.316441e-07</td>\n",
       "      <td>1.034846e-08</td>\n",
       "      <td>-2.078258e-10</td>\n",
       "      <td>5.212701e-11</td>\n",
       "      <td>5.185625e-10</td>\n",
       "      <td>-0.010967</td>\n",
       "      <td>0.112984</td>\n",
       "      <td>...</td>\n",
       "      <td>7.094084e-15</td>\n",
       "      <td>-4.004890e-14</td>\n",
       "      <td>-2.349551e-14</td>\n",
       "      <td>2.834812e-14</td>\n",
       "      <td>-2.460995e-14</td>\n",
       "      <td>-3.088933e-14</td>\n",
       "      <td>1.994998e-14</td>\n",
       "      <td>-2.064033e-14</td>\n",
       "      <td>4.996167e-15</td>\n",
       "      <td>-3.147294e-15</td>\n",
       "    </tr>\n",
       "    <tr>\n",
       "      <th>635</th>\n",
       "      <td>-0.343673</td>\n",
       "      <td>1.923417</td>\n",
       "      <td>0.336221</td>\n",
       "      <td>3.712491e-07</td>\n",
       "      <td>8.900514e-09</td>\n",
       "      <td>-1.787455e-10</td>\n",
       "      <td>4.483291e-11</td>\n",
       "      <td>4.460051e-10</td>\n",
       "      <td>0.008728</td>\n",
       "      <td>0.255941</td>\n",
       "      <td>...</td>\n",
       "      <td>5.940871e-13</td>\n",
       "      <td>6.795021e-13</td>\n",
       "      <td>-3.602912e-13</td>\n",
       "      <td>1.765168e-13</td>\n",
       "      <td>5.436274e-13</td>\n",
       "      <td>5.392764e-13</td>\n",
       "      <td>-7.733788e-13</td>\n",
       "      <td>-6.998683e-14</td>\n",
       "      <td>-2.585473e-13</td>\n",
       "      <td>-6.876770e-13</td>\n",
       "    </tr>\n",
       "    <tr>\n",
       "      <th>636</th>\n",
       "      <td>-0.050007</td>\n",
       "      <td>-0.848397</td>\n",
       "      <td>-0.266629</td>\n",
       "      <td>-2.930051e-07</td>\n",
       "      <td>-7.024652e-09</td>\n",
       "      <td>1.410726e-10</td>\n",
       "      <td>-3.538334e-11</td>\n",
       "      <td>-3.520051e-10</td>\n",
       "      <td>-0.016952</td>\n",
       "      <td>1.297105</td>\n",
       "      <td>...</td>\n",
       "      <td>5.956468e-13</td>\n",
       "      <td>6.776924e-13</td>\n",
       "      <td>-3.679998e-13</td>\n",
       "      <td>1.707953e-13</td>\n",
       "      <td>5.439340e-13</td>\n",
       "      <td>5.470212e-13</td>\n",
       "      <td>-7.759288e-13</td>\n",
       "      <td>-7.342160e-14</td>\n",
       "      <td>-2.625313e-13</td>\n",
       "      <td>-6.883127e-13</td>\n",
       "    </tr>\n",
       "  </tbody>\n",
       "</table>\n",
       "<p>637 rows × 80 columns</p>\n",
       "</div>"
      ],
      "text/plain": [
       "           0         1         2             3             4             5   \\\n",
       "0   -0.160261 -1.182885 -0.550083 -4.155959e-07 -9.963688e-09  2.000870e-10   \n",
       "1   -0.145856 -1.180922 -0.550503 -4.155959e-07 -9.963689e-09  2.000870e-10   \n",
       "2    0.406774 -1.934732 -0.622302 -5.915520e-07 -1.418215e-08  2.848127e-10   \n",
       "3   -0.246677  1.406204  0.188435  2.214351e-07  5.308798e-09 -1.066153e-10   \n",
       "4   -0.318125  1.058161 -0.011589  1.120829e-07  2.687143e-09 -5.397117e-11   \n",
       "..        ...       ...       ...           ...           ...           ...   \n",
       "632  4.330349  0.301908 -0.119242 -1.156728e-07 -2.773183e-09  5.568193e-11   \n",
       "633 -0.160057 -1.182857 -0.550089 -4.155959e-07 -9.963688e-09  2.000869e-10   \n",
       "634 -0.201116  2.218903  0.376254  4.316441e-07  1.034846e-08 -2.078258e-10   \n",
       "635 -0.343673  1.923417  0.336221  3.712491e-07  8.900514e-09 -1.787455e-10   \n",
       "636 -0.050007 -0.848397 -0.266629 -2.930051e-07 -7.024652e-09  1.410726e-10   \n",
       "\n",
       "               6             7         8         9   ...            70  \\\n",
       "0   -5.019337e-11 -4.992794e-10  0.015750 -1.162458  ...  5.906370e-13   \n",
       "1   -5.019338e-11 -4.992794e-10  0.014381 -1.164725  ...  5.910202e-13   \n",
       "2   -7.143711e-11 -7.106660e-10 -0.029898 -0.753670  ...  3.321471e-14   \n",
       "3    2.674134e-11  2.660253e-10 -0.011565  0.155303  ...  2.593566e-15   \n",
       "4    1.353240e-11  1.346540e-10  0.007188 -0.363163  ...  5.934660e-13   \n",
       "..            ...           ...       ...       ...  ...           ...   \n",
       "632 -1.395455e-11 -1.389018e-10 -1.044660  0.619719  ...  6.578324e-18   \n",
       "633 -5.019339e-11 -4.992793e-10  0.015731 -1.162490  ...  5.907056e-13   \n",
       "634  5.212701e-11  5.185625e-10 -0.010967  0.112984  ...  7.094084e-15   \n",
       "635  4.483291e-11  4.460051e-10  0.008728  0.255941  ...  5.940871e-13   \n",
       "636 -3.538334e-11 -3.520051e-10 -0.016952  1.297105  ...  5.956468e-13   \n",
       "\n",
       "               71            72            73            74            75  \\\n",
       "0    6.759112e-13 -3.701833e-13  1.724383e-13  5.459520e-13  5.518474e-13   \n",
       "1    6.759351e-13 -3.706445e-13  1.719705e-13  5.461398e-13  5.517736e-13   \n",
       "2    1.006691e-13 -7.838474e-16 -1.020310e-14 -2.269997e-14 -5.109465e-14   \n",
       "3    8.876458e-15 -4.477932e-15  2.135494e-15 -3.724791e-15 -1.028394e-14   \n",
       "4    6.815177e-13 -3.676591e-13  1.693975e-13  5.450718e-13  5.493685e-13   \n",
       "..            ...           ...           ...           ...           ...   \n",
       "632  7.616774e-15 -4.276170e-15  2.042807e-15 -4.889290e-15 -1.191261e-14   \n",
       "633  6.761454e-13 -3.701450e-13  1.723700e-13  5.463435e-13  5.517547e-13   \n",
       "634 -4.004890e-14 -2.349551e-14  2.834812e-14 -2.460995e-14 -3.088933e-14   \n",
       "635  6.795021e-13 -3.602912e-13  1.765168e-13  5.436274e-13  5.392764e-13   \n",
       "636  6.776924e-13 -3.679998e-13  1.707953e-13  5.439340e-13  5.470212e-13   \n",
       "\n",
       "               76            77            78            79  \n",
       "0   -7.770555e-13 -7.267755e-14 -2.666910e-13 -6.834427e-13  \n",
       "1   -7.770790e-13 -7.281629e-14 -2.661965e-13 -6.836705e-13  \n",
       "2    8.644403e-15  1.472136e-14  6.259814e-15  5.183308e-14  \n",
       "3    3.860336e-15  8.922671e-16 -1.327284e-15  1.856706e-15  \n",
       "4   -7.759541e-13 -7.174308e-14 -2.656713e-13 -6.834378e-13  \n",
       "..            ...           ...           ...           ...  \n",
       "632  6.968489e-15  3.115521e-16 -2.265100e-15  2.018868e-15  \n",
       "633 -7.775905e-13 -7.306395e-14 -2.658276e-13 -6.839746e-13  \n",
       "634  1.994998e-14 -2.064033e-14  4.996167e-15 -3.147294e-15  \n",
       "635 -7.733788e-13 -6.998683e-14 -2.585473e-13 -6.876770e-13  \n",
       "636 -7.759288e-13 -7.342160e-14 -2.625313e-13 -6.883127e-13  \n",
       "\n",
       "[637 rows x 80 columns]"
      ]
     },
     "execution_count": 15,
     "metadata": {},
     "output_type": "execute_result"
    }
   ],
   "source": [
    "pca = PCA(n_components=.90)\n",
    "pca_scaled_crypto_db = pca.fit_transform(scaled_crypto_db)\n",
    "pca_scaled_crypto_db = pd.DataFrame(pca_scaled_crypto_db)\n",
    "pca_scaled_crypto_db"
   ]
  },
  {
   "cell_type": "code",
   "execution_count": 16,
   "metadata": {},
   "outputs": [
    {
     "data": {
      "text/html": [
       "<div>\n",
       "<style scoped>\n",
       "    .dataframe tbody tr th:only-of-type {\n",
       "        vertical-align: middle;\n",
       "    }\n",
       "\n",
       "    .dataframe tbody tr th {\n",
       "        vertical-align: top;\n",
       "    }\n",
       "\n",
       "    .dataframe thead th {\n",
       "        text-align: right;\n",
       "    }\n",
       "</style>\n",
       "<table border=\"1\" class=\"dataframe\">\n",
       "  <thead>\n",
       "    <tr style=\"text-align: right;\">\n",
       "      <th></th>\n",
       "      <th>0</th>\n",
       "      <th>1</th>\n",
       "    </tr>\n",
       "  </thead>\n",
       "  <tbody>\n",
       "    <tr>\n",
       "      <th>0</th>\n",
       "      <td>-13.386483</td>\n",
       "      <td>-8.355470</td>\n",
       "    </tr>\n",
       "    <tr>\n",
       "      <th>1</th>\n",
       "      <td>-15.248445</td>\n",
       "      <td>-14.923240</td>\n",
       "    </tr>\n",
       "    <tr>\n",
       "      <th>2</th>\n",
       "      <td>-27.722481</td>\n",
       "      <td>-7.995842</td>\n",
       "    </tr>\n",
       "    <tr>\n",
       "      <th>3</th>\n",
       "      <td>17.812099</td>\n",
       "      <td>25.447477</td>\n",
       "    </tr>\n",
       "    <tr>\n",
       "      <th>4</th>\n",
       "      <td>10.901923</td>\n",
       "      <td>-11.228732</td>\n",
       "    </tr>\n",
       "    <tr>\n",
       "      <th>...</th>\n",
       "      <td>...</td>\n",
       "      <td>...</td>\n",
       "    </tr>\n",
       "    <tr>\n",
       "      <th>632</th>\n",
       "      <td>-1.069011</td>\n",
       "      <td>3.317613</td>\n",
       "    </tr>\n",
       "    <tr>\n",
       "      <th>633</th>\n",
       "      <td>-9.902014</td>\n",
       "      <td>-12.776445</td>\n",
       "    </tr>\n",
       "    <tr>\n",
       "      <th>634</th>\n",
       "      <td>18.722347</td>\n",
       "      <td>-23.611738</td>\n",
       "    </tr>\n",
       "    <tr>\n",
       "      <th>635</th>\n",
       "      <td>23.808405</td>\n",
       "      <td>1.949064</td>\n",
       "    </tr>\n",
       "    <tr>\n",
       "      <th>636</th>\n",
       "      <td>-1.081918</td>\n",
       "      <td>11.997394</td>\n",
       "    </tr>\n",
       "  </tbody>\n",
       "</table>\n",
       "<p>637 rows × 2 columns</p>\n",
       "</div>"
      ],
      "text/plain": [
       "             0          1\n",
       "0   -13.386483  -8.355470\n",
       "1   -15.248445 -14.923240\n",
       "2   -27.722481  -7.995842\n",
       "3    17.812099  25.447477\n",
       "4    10.901923 -11.228732\n",
       "..         ...        ...\n",
       "632  -1.069011   3.317613\n",
       "633  -9.902014 -12.776445\n",
       "634  18.722347 -23.611738\n",
       "635  23.808405   1.949064\n",
       "636  -1.081918  11.997394\n",
       "\n",
       "[637 rows x 2 columns]"
      ]
     },
     "execution_count": 16,
     "metadata": {},
     "output_type": "execute_result"
    }
   ],
   "source": [
    "from sklearn.manifold import TSNE\n",
    "tsne = TSNE()\n",
    "tsne_pca_crpyto_df = tsne.fit_transform(pca_scaled_crypto_db)\n",
    "tsne_pca_crpyto_df = pd.DataFrame(tsne_pca_crpyto_df)\n",
    "tsne_pca_crpyto_df"
   ]
  },
  {
   "cell_type": "code",
   "execution_count": 17,
   "metadata": {},
   "outputs": [
    {
     "data": {
      "text/plain": [
       "<matplotlib.collections.PathCollection at 0x15e9306d130>"
      ]
     },
     "execution_count": 17,
     "metadata": {},
     "output_type": "execute_result"
    },
    {
     "data": {
      "image/png": "[encoded data removed]",
      "text/plain": [
       "<Figure size 432x288 with 1 Axes>"
      ]
     },
     "metadata": {
      "needs_background": "light"
     },
     "output_type": "display_data"
    }
   ],
   "source": [
    "plt.scatter(tsne_pca_crpyto_df[0], tsne_pca_crpyto_df[1])\n"
   ]
  },
  {
   "cell_type": "code",
   "execution_count": 18,
   "metadata": {},
   "outputs": [
    {
     "data": {
      "image/png": "[encoded data removed]",
      "text/plain": [
       "<Figure size 432x288 with 1 Axes>"
      ]
     },
     "metadata": {
      "needs_background": "light"
     },
     "output_type": "display_data"
    }
   ],
   "source": [
    "inertia = []\n",
    "k =list(range(1, 11))\n",
    "\n",
    "for i in k:\n",
    "    km = KMeans(n_clusters=i, random_state=0)\n",
    "    km.fit(tsne_pca_crpyto_df)\n",
    "    inertia.append(km.inertia_)\n",
    "\n",
    "elbow_data = {'k': k, 'inertia': inertia}\n",
    "df_elbow = pd.DataFrame(elbow_data)\n",
    "\n",
    "plt.plot(df_elbow['k'], df_elbow['inertia'])\n",
    "plt.xticks(list(range(11)))\n",
    "plt.title('Elbow Curve')\n",
    "plt.xlabel('Number of clusters')\n",
    "plt.ylabel('Inertia')\n",
    "plt.show()"
   ]
  },
  {
   "cell_type": "code",
   "execution_count": null,
   "metadata": {},
   "outputs": [],
   "source": []
  }
 ],
 "metadata": {
  "interpreter": {
   "hash": "6b8721dc33028fb17f0e3fe2cdda4077060818a4ddca4da470130caa6b7f3bb0"
  },
  "kernelspec": {
   "display_name": "Python 3.9.6 64-bit",
   "name": "python3"
  },
  "language_info": {
   "codemirror_mode": {
    "name": "ipython",
    "version": 3
   },
   "file_extension": ".py",
   "mimetype": "text/x-python",
   "name": "python",
   "nbconvert_exporter": "python",
   "pygments_lexer": "ipython3",
   "version": "3.9.6"
  },
  "orig_nbformat": 4
 },
 "nbformat": 4,
 "nbformat_minor": 2
}
